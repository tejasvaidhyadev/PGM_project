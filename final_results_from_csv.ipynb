{
 "cells": [
  {
   "cell_type": "code",
   "execution_count": 41,
   "metadata": {},
   "outputs": [],
   "source": [
    "import numpy as np"
   ]
  },
  {
   "cell_type": "code",
   "execution_count": 167,
   "metadata": {},
   "outputs": [],
   "source": [
    "from numpy.random import normal, uniform"
   ]
  },
  {
   "cell_type": "code",
   "execution_count": 68,
   "metadata": {},
   "outputs": [],
   "source": [
    "reduced_df = pd.read_csv(\"./PeerRead/process_data/beta0_0.25beta1_25.0gamma_0.0.csv\")"
   ]
  },
  {
   "cell_type": "code",
   "execution_count": 64,
   "metadata": {},
   "outputs": [],
   "source": [
    "gt = reduced_df[reduced_df.treatment == 1].y1.mean() - reduced_df[reduced_df.treatment == 1].y0.mean()"
   ]
  },
  {
   "cell_type": "code",
   "execution_count": 65,
   "metadata": {},
   "outputs": [],
   "source": [
    "naive = reduced_df[reduced_df.treatment == 1].outcome.mean() - reduced_df[reduced_df.treatment == 0].outcome.mean()"
   ]
  },
  {
   "cell_type": "code",
   "execution_count": 66,
   "metadata": {},
   "outputs": [
    {
     "data": {
      "text/plain": [
       "0.03"
      ]
     },
     "execution_count": 66,
     "metadata": {},
     "output_type": "execute_result"
    }
   ],
   "source": [
    "round(gt, 2)"
   ]
  },
  {
   "cell_type": "code",
   "execution_count": 67,
   "metadata": {},
   "outputs": [
    {
     "data": {
      "text/plain": [
       "0.16"
      ]
     },
     "execution_count": 67,
     "metadata": {},
     "output_type": "execute_result"
    }
   ],
   "source": [
    "round(naive, 2)"
   ]
  },
  {
   "cell_type": "code",
   "execution_count": 139,
   "metadata": {},
   "outputs": [],
   "source": [
    "import logging\n",
    "import json\n",
    "import re\n",
    "import pandas as pd\n",
    "import pdb\n",
    "# Logistic Regression\n",
    "from sklearn.linear_model import LogisticRegression\n",
    "import math\n",
    "import numpy as np "
   ]
  },
  {
   "cell_type": "code",
   "execution_count": 140,
   "metadata": {},
   "outputs": [],
   "source": [
    "def att_estimates(q0, q1, g, t, y, prob_t, truncate_level=0.05, deps=0.0001):\n",
    "\n",
    "    one_step_tmle = make_one_step_tmle(prob_t, deps_default=deps)\n",
    "\n",
    "    very_naive = psi_very_naive(t,y)\n",
    "    q_only = psi_q_only(q0, q1, g, t, y, prob_t, truncate_level)\n",
    "    plugin = psi_plugin(q0, q1, g, t, y, prob_t, truncate_level)\n",
    "    aiptw = psi_aiptw(q0, q1, g, t, y, prob_t, truncate_level)\n",
    "    one_step_tmle = one_step_tmle(q0, q1, g, t, y, truncate_level)  # note different signature\n",
    "\n",
    "    estimates = {'very_naive': very_naive, 'q_only': q_only, 'plugin': plugin, 'one_step_tmle': one_step_tmle}\n",
    "\n",
    "    return estimates\n",
    "\n",
    "def psi_q_only(q_t0, q_t1, g, t, y, prob_t, truncate_level=0.05):\n",
    "    q_t0, q_t1, g, t, y = truncate_all_by_g(q_t0, q_t1, g, t, y, truncate_level)\n",
    "\n",
    "    ite_t = (q_t1 - q_t0)[t == 1]\n",
    "    estimate = ite_t.mean()\n",
    "    return estimate\n",
    "\n",
    "\n",
    "def psi_plugin(q_t0, q_t1, g, t, y, prob_t, truncate_level=0.05):\n",
    "    q_t0, q_t1, g, t, y = truncate_all_by_g(q_t0, q_t1, g, t, y, truncate_level)\n",
    "\n",
    "    ite_t = g*(q_t1 - q_t0)/prob_t\n",
    "    estimate = ite_t.mean()\n",
    "    return estimate\n",
    "\n",
    "def truncate_by_g(attribute, g, level=0.1):\n",
    "    keep_these = np.logical_and(g >= level, g <= 1.-level)\n",
    "\n",
    "    return attribute[keep_these]\n",
    "\n",
    "\n",
    "def truncate_all_by_g(q_t0, q_t1, g, t, y, truncate_level=0.05):\n",
    "    \"\"\"\n",
    "    Helper function to clean up nuisance parameter estimates.\n",
    "    \"\"\"\n",
    "    # here q_t0 is \n",
    "\n",
    "    orig_g = np.copy(g)\n",
    "\n",
    "    q_t0 = truncate_by_g(np.copy(q_t0), orig_g, truncate_level)\n",
    "    q_t1 = truncate_by_g(np.copy(q_t1), orig_g, truncate_level)\n",
    "    g = truncate_by_g(np.copy(g), orig_g, truncate_level)\n",
    "    t = truncate_by_g(np.copy(t), orig_g, truncate_level)\n",
    "    y = truncate_by_g(np.copy(y), orig_g, truncate_level)\n",
    "\n",
    "    return q_t0, q_t1, g, t, y\n",
    "\n",
    "\n",
    "def psi_very_naive(t, y):\n",
    "    return y[t == 1].mean() - y[t == 0].mean()\n",
    "\n",
    "\n",
    "def att_estimates(q0, q1, g, t, y, prob_t, truncate_level=0.05, deps=0.0001):\n",
    "\n",
    "    one_step_tmle = make_one_step_tmle(prob_t, deps_default=deps)\n",
    "\n",
    "    very_naive = psi_very_naive(t,y)\n",
    "    q_only = psi_q_only(q0, q1, g, t, y, prob_t, truncate_level)\n",
    "    plugin = psi_plugin(q0, q1, g, t, y, prob_t, truncate_level)\n",
    "    one_step_tmle = one_step_tmle(q0, q1, g, t, y, truncate_level)  # note different signature\n",
    "\n",
    "    estimates = {'very_naive': very_naive, 'q_only': q_only, 'plugin': plugin, 'one_step_tmle': one_step_tmle}\n",
    "\n",
    "    return estimates"
   ]
  },
  {
   "cell_type": "code",
   "execution_count": 141,
   "metadata": {},
   "outputs": [],
   "source": [
    "\n",
    "def make_one_step_tmle(prob_t, deps_default=0.001):\n",
    "    \"Make a function that computes the 1-step TMLE ala https://www.ncbi.nlm.nih.gov/pmc/articles/PMC4912007/\"\n",
    "\n",
    "    def _perturb_q(q_t0, q_t1, g, t, deps=deps_default):\n",
    "        h1 = t / prob_t - ((1 - t) * g) / (prob_t * (1 - g))\n",
    "\n",
    "        full_q = (1.0 - t) * q_t0 + t * q_t1\n",
    "        perturbed_q = full_q - deps * h1\n",
    "        # perturbed_q= expit(logit(full_q) - deps*h1)\n",
    "        return perturbed_q\n",
    "\n",
    "    def _perturb_g(q_t0, q_t1, g, deps=deps_default):\n",
    "        h2 = (q_t1 - q_t0 - _psi(q_t0, q_t1, g)) / prob_t\n",
    "        perturbed_g = expit(logit(g) - deps * h2)\n",
    "        return perturbed_g\n",
    "\n",
    "    def _perturb_g_and_q(q0_old, q1_old, g_old, t, deps=deps_default):\n",
    "        # get the values of Q_{eps+deps} and g_{eps+deps} by using the recursive formula\n",
    "\n",
    "        perturbed_g = _perturb_g(q0_old, q1_old, g_old, deps=deps)\n",
    "\n",
    "        perturbed_q = _perturb_q(q0_old, q1_old, perturbed_g, t, deps=deps)\n",
    "        perturbed_q0 = _perturb_q(q0_old, q1_old, perturbed_g, np.zeros_like(t), deps=deps)\n",
    "        perturbed_q1 = _perturb_q(q0_old, q1_old, perturbed_g, np.ones_like(t), deps=deps)\n",
    "\n",
    "        return perturbed_q0, perturbed_q1, perturbed_q, perturbed_g\n",
    "\n",
    "    def _loss(q, g, y, t):\n",
    "        # compute the new loss\n",
    "        q_loss = mse(y, q)\n",
    "        g_loss = cross_entropy(t, g)\n",
    "        return q_loss + g_loss\n",
    "\n",
    "    def _psi(q0, q1, g):\n",
    "        return np.mean(g*(q1 - q0)) / prob_t\n",
    "\n",
    "    def tmle(q_t0, q_t1, g, t, y, truncate_level=0.05, deps=deps_default):\n",
    "        \"\"\"\n",
    "        Computes the tmle for the ATT (equivalently: direct effect)\n",
    "        :param q_t0:\n",
    "        :param q_t1:\n",
    "        :param g:\n",
    "        :param t:\n",
    "        :param y:\n",
    "        :param truncate_level:\n",
    "        :param deps:\n",
    "        :return:\n",
    "        \"\"\"\n",
    "        q_t0, q_t1, g, t, y = truncate_all_by_g(q_t0, q_t1, g, t, y, truncate_level)\n",
    "\n",
    "        eps = 0.0\n",
    "\n",
    "        q0_old = q_t0\n",
    "        q1_old = q_t1\n",
    "        g_old = g\n",
    "\n",
    "        # determine whether epsilon should go up or down\n",
    "        # translated blindly from line 299 of https://github.com/cran/tmle/blob/master/R/tmle.R\n",
    "        h1 = t / prob_t - ((1 - t) * g) / (prob_t * (1 - g))\n",
    "        full_q = (1.0 - t) * q_t0 + t * q_t1\n",
    "        deriv = np.mean(prob_t*h1*(y-full_q) + t*(q_t1 - q_t0 - _psi(q_t0, q_t1, g)))\n",
    "        if deriv > 0:\n",
    "            deps = -deps\n",
    "\n",
    "        # run until loss starts going up\n",
    "        # old_loss = np.inf  # this is the thing used by Rose' implementation\n",
    "        old_loss = _loss(full_q, g, y, t)\n",
    "\n",
    "        while True:\n",
    "            perturbed_q0, perturbed_q1, perturbed_q, perturbed_g = _perturb_g_and_q(q0_old, q1_old, g_old, t, deps=deps)\n",
    "\n",
    "            new_loss = _loss(perturbed_q, perturbed_g, y, t)\n",
    "\n",
    "            # debugging\n",
    "            # print(\"Psi: {}\".format(_psi(q0_old, q1_old, g_old)))\n",
    "            # print(\"new_loss is: \", new_loss, \"old_loss is \", old_loss)\n",
    "\n",
    "            # # if this is the first step, decide whether to go down or up from eps=0.0\n",
    "            # if eps == 0.0:\n",
    "            #     _, _, perturbed_q_neg, perturbed_g_neg = _perturb_g_and_q(q0_old, q1_old, g_old, t, deps=-deps)\n",
    "            #     neg_loss = _loss(perturbed_q_neg, perturbed_g_neg, y, t)\n",
    "            #\n",
    "            #     if neg_loss < new_loss:\n",
    "            #         return tmle(q_t0, q_t1, g, t, y, deps=-1.0 * deps)\n",
    "\n",
    "            # check if converged\n",
    "            if new_loss > old_loss:\n",
    "                # if eps == 0.:\n",
    "                #     print(\"Warning: no update occurred (is deps too big?)\")\n",
    "                return _psi(q0_old, q1_old, g_old)\n",
    "            else:\n",
    "                eps += deps\n",
    "\n",
    "                q0_old = perturbed_q0\n",
    "                q1_old = perturbed_q1\n",
    "                g_old = perturbed_g\n",
    "\n",
    "                old_loss = new_loss\n",
    "\n",
    "    return tmle"
   ]
  },
  {
   "cell_type": "code",
   "execution_count": 142,
   "metadata": {},
   "outputs": [],
   "source": [
    "def psi_aiptw(q_t0, q_t1, g, t, y, prob_t, truncate_level=0.05):\n",
    "    # the robust ATT estimator described in eqn 3.9 of\n",
    "    # https://www.econstor.eu/bitstream/10419/149795/1/869216953.pdf\n",
    "\n",
    "    q_t0, q_t1, g, t, y = truncate_all_by_g(q_t0, q_t1, g, t, y, truncate_level)\n",
    "    estimate = (t*(y-q_t0) - (1-t)*(g/(1-g))*(y-q_t0)).mean() / prob_t\n",
    "\n",
    "    return estimate\n",
    "\n"
   ]
  },
  {
   "cell_type": "code",
   "execution_count": 143,
   "metadata": {},
   "outputs": [],
   "source": [
    "def cross_entropy(y, p):\n",
    "    return -np.mean((y*np.log(p) + (1.-y)*np.log(1.-p)))\n"
   ]
  },
  {
   "cell_type": "code",
   "execution_count": 147,
   "metadata": {},
   "outputs": [],
   "source": [
    "def mse(x, y):\n",
    "    return np.mean(np.square(x-y))"
   ]
  },
  {
   "cell_type": "code",
   "execution_count": 168,
   "metadata": {},
   "outputs": [],
   "source": [
    "import numpy as np\n",
    "from scipy.special import logit, expit\n",
    "from scipy.optimize import minimize\n"
   ]
  },
  {
   "cell_type": "code",
   "execution_count": 169,
   "metadata": {},
   "outputs": [],
   "source": [
    "df_test = pd.read_csv(\"logs/experiment/inference.csv\")\n",
    "nuisance_dict = df_test.to_dict('series')\n",
    "nuisance_dict['prob_t'] = nuisance_dict['t'].mean()"
   ]
  },
  {
   "cell_type": "code",
   "execution_count": 170,
   "metadata": {},
   "outputs": [],
   "source": [
    "estimates = att_estimates(**nuisance_dict, deps=0.0005)"
   ]
  },
  {
   "cell_type": "code",
   "execution_count": 171,
   "metadata": {},
   "outputs": [
    {
     "data": {
      "text/plain": [
       "{'very_naive': 0.12212078874793592,\n",
       " 'q_only': 0.029123388033817938,\n",
       " 'plugin': 0.03535099218657541,\n",
       " 'one_step_tmle': 0.035350992186575406}"
      ]
     },
     "execution_count": 171,
     "metadata": {},
     "output_type": "execute_result"
    }
   ],
   "source": [
    "estimates"
   ]
  },
  {
   "cell_type": "code",
   "execution_count": null,
   "metadata": {},
   "outputs": [],
   "source": []
  }
 ],
 "metadata": {
  "kernelspec": {
   "display_name": "Python 3",
   "language": "python",
   "name": "python3"
  },
  "language_info": {
   "codemirror_mode": {
    "name": "ipython",
    "version": 3
   },
   "file_extension": ".py",
   "mimetype": "text/x-python",
   "name": "python",
   "nbconvert_exporter": "python",
   "pygments_lexer": "ipython3",
   "version": "3.7.4"
  }
 },
 "nbformat": 4,
 "nbformat_minor": 4
}
